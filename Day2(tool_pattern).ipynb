{
 "cells": [
  {
   "metadata": {},
   "cell_type": "markdown",
   "source": "The tool decorator-A tool decorator that automates the process of converting a Python function into a tool definition suitable for the LLM's system prompt.",
   "id": "6553cedf47b38109"
  },
  {
   "cell_type": "code",
   "id": "initial_id",
   "metadata": {
    "collapsed": true,
    "ExecuteTime": {
     "end_time": "2025-08-01T16:01:53.246852Z",
     "start_time": "2025-08-01T16:01:50.889419Z"
    }
   },
   "source": [
    "import json\n",
    "import requests\n",
    "from agentic_patterns.tool_pattern.tool import tool #the decorator\n",
    "from agentic_patterns.tool_pattern.tool_agent import ToolAgent"
   ],
   "outputs": [],
   "execution_count": 1
  },
  {
   "metadata": {
    "ExecuteTime": {
     "end_time": "2025-08-01T16:01:53.260928Z",
     "start_time": "2025-08-01T16:01:53.254873Z"
    }
   },
   "cell_type": "code",
   "source": [
    "def fetch_top_hacker_news_stories(top_n: int):\n",
    "    \"\"\"\n",
    "    Fetch the top stories from the Hacker News.\n",
    "\n",
    "    This function retrieves the top 'top_n' stories from the Hacker News API.\n",
    "    Each story contains the title, URL, score, author and time of submission. The data is fetched from the official Firebase Hacker News API, which returns story details in JSON format.\n",
    "\n",
    "    Args:\n",
    "        top_n (int): Number of stories to fetch.\n",
    "    \"\"\"\n",
    "\n",
    "    top_stories_url = 'https://hacker-news.firebaseio.com/v0/topstories.json'\n",
    "\n",
    "    try:\n",
    "        response = requests.get(top_stories_url)\n",
    "        response.raise_for_status()\n",
    "\n",
    "        top_story_ids = response.json()[:top_n]\n",
    "\n",
    "        top_stories = []\n",
    "\n",
    "        for story_id in top_story_ids:\n",
    "            story_url = f'https://hacker-news.firebaseio.com/v0/item/{story_id}.json'\n",
    "            story_response = requests.get(story_url)\n",
    "            story_response.raise_for_status()\n",
    "            story_data = story_response.json()\n",
    "\n",
    "            top_stories.append({\n",
    "                'title': story_data.get('title', 'No title'),\n",
    "                'url': story_data.get('url', 'No URL available'),\n",
    "            })\n",
    "\n",
    "        return json.dumps(top_stories)\n",
    "\n",
    "    except requests.exceptions.RequestException as e:\n",
    "        print(f\"An error occurred: {e}\")\n",
    "        return []\n"
   ],
   "id": "8cbf3254bc788b8e",
   "outputs": [],
   "execution_count": 2
  },
  {
   "metadata": {},
   "cell_type": "markdown",
   "source": [
    "1.fetch_top_hacker_news_stories(top_n:int): function that fetches data from the Hacker News APi.\n",
    "\n",
    "\n",
    "->It uses the request library to make HTTP GET requests\n",
    "\n",
    "\n",
    "->It includes robust error handling for network requests(requests.exceptions.RequestException)\n",
    "\n",
    "\n",
    "\n",
    "3.hn_tool.name and json.loads(hn_tool.fn_signature):These lines demonstrate that the hn_tool object now holds the automatically generate metadata.\n",
    "\n",
    "\n"
   ],
   "id": "d11906d1aa9b66e3"
  },
  {
   "metadata": {
    "ExecuteTime": {
     "end_time": "2025-08-01T16:01:59.186958Z",
     "start_time": "2025-08-01T16:01:53.270266Z"
    }
   },
   "cell_type": "code",
   "source": "json.loads(fetch_top_hacker_news_stories(top_n=5))",
   "id": "ca4b4aad04643dcb",
   "outputs": [
    {
     "data": {
      "text/plain": [
       "[{'title': 'Show HN: Draw A Fish and watch it swim with the others',\n",
       "  'url': 'https://drawafish.com'},\n",
       " {'title': 'Gemini 2.5 Deep Think',\n",
       "  'url': 'https://blog.google/products/gemini/gemini-2-5-deep-think/'},\n",
       " {'title': 'Fast (2019)', 'url': 'https://patrickcollison.com/fast'},\n",
       " {'title': 'Show HN: Pontoon – Open-source customer data syncs',\n",
       "  'url': 'https://github.com/pontoon-data/Pontoon'},\n",
       " {'title': 'Show HN: An interactive dashboard to explore NYC rentals data',\n",
       "  'url': 'https://leaseswap.nyc/analytics'}]"
      ]
     },
     "execution_count": 3,
     "metadata": {},
     "output_type": "execute_result"
    }
   ],
   "execution_count": 3
  },
  {
   "metadata": {
    "ExecuteTime": {
     "end_time": "2025-08-01T16:01:59.874485Z",
     "start_time": "2025-08-01T16:01:59.871596Z"
    }
   },
   "cell_type": "code",
   "source": "hn_tool = tool(fetch_top_hacker_news_stories)",
   "id": "b590a6221e75db13",
   "outputs": [],
   "execution_count": 4
  },
  {
   "metadata": {},
   "cell_type": "markdown",
   "source": "hn_tool = tool(fetch_top_hacker_news_stories):This line applies the tool decorator to the fetch_top_hacker_news_stories function.",
   "id": "63a9335d7f42328b"
  },
  {
   "metadata": {
    "ExecuteTime": {
     "end_time": "2025-08-01T16:02:01.616497Z",
     "start_time": "2025-08-01T16:02:01.612653Z"
    }
   },
   "cell_type": "code",
   "source": "hn_tool.name",
   "id": "8ebc842d460657f9",
   "outputs": [
    {
     "data": {
      "text/plain": [
       "'fetch_top_hacker_news_stories'"
      ]
     },
     "execution_count": 5,
     "metadata": {},
     "output_type": "execute_result"
    }
   ],
   "execution_count": 5
  },
  {
   "metadata": {
    "ExecuteTime": {
     "end_time": "2025-08-01T16:02:01.725138Z",
     "start_time": "2025-08-01T16:02:01.721060Z"
    }
   },
   "cell_type": "code",
   "source": "json.loads(hn_tool.fn_signature)",
   "id": "697a8a834ee8eca5",
   "outputs": [
    {
     "data": {
      "text/plain": [
       "{'name': 'fetch_top_hacker_news_stories',\n",
       " 'description': \"\\n    Fetch the top stories from the Hacker News.\\n\\n    This function retrieves the top 'top_n' stories from the Hacker News API.\\n    Each story contains the title, URL, score, author and time of submission. The data is fetched from the official Firebase Hacker News API, which returns story details in JSON format.\\n\\n    Args:\\n        top_n (int): Number of stories to fetch.\\n    \",\n",
       " 'parameters': {'properties': {'top_n': {'type': 'int'}}}}"
      ]
     },
     "execution_count": 6,
     "metadata": {},
     "output_type": "execute_result"
    }
   ],
   "execution_count": 6
  },
  {
   "metadata": {
    "ExecuteTime": {
     "end_time": "2025-08-01T16:03:25.964189Z",
     "start_time": "2025-08-01T16:03:25.770099Z"
    }
   },
   "cell_type": "code",
   "source": [
    "tool_agent = ToolAgent(\n",
    "    tools=[hn_tool],\n",
    "    model=\"llama-3.3-70b-versatile\"\n",
    ")"
   ],
   "id": "2a48142ae4c4b7f5",
   "outputs": [],
   "execution_count": 9
  },
  {
   "metadata": {},
   "cell_type": "markdown",
   "source": [
    "1.tool_agent = ToolAgent(\n",
    "    tools=[hn_tool],\n",
    "    model=\"llama-3.3-70b-versatile\"\n",
    "):Initializes the ToolAgent by providing it with a list of available tools, responsible for constructing the system prompt with all tool definition, managing the chat history, and orchestrating the LLM calls and tool execution."
   ],
   "id": "134ab198eede1065"
  },
  {
   "metadata": {
    "ExecuteTime": {
     "end_time": "2025-08-01T16:03:27.487450Z",
     "start_time": "2025-08-01T16:03:27.049167Z"
    }
   },
   "cell_type": "code",
   "source": "output = tool_agent.run(user_msg=\"Tell me your name\")",
   "id": "a90a2f3cca7eb0cf",
   "outputs": [],
   "execution_count": 10
  },
  {
   "metadata": {
    "ExecuteTime": {
     "end_time": "2025-08-01T16:03:39.530765Z",
     "start_time": "2025-08-01T16:03:39.526437Z"
    }
   },
   "cell_type": "code",
   "source": "print(output)",
   "id": "78e6ea9f87904692",
   "outputs": [
    {
     "name": "stdout",
     "output_type": "stream",
     "text": [
      "I'm an artificial intelligence model known as Llama. Llama stands for \"Large Language Model Meta AI.\"\n"
     ]
    }
   ],
   "execution_count": 11
  },
  {
   "metadata": {
    "ExecuteTime": {
     "end_time": "2025-08-01T16:03:57.653531Z",
     "start_time": "2025-08-01T16:03:51.627871Z"
    }
   },
   "cell_type": "code",
   "source": "output = tool_agent.run(user_msg=\"Tell me the top 5 Hacker News stories right now\")",
   "id": "6b7500a0938d2b45",
   "outputs": [
    {
     "name": "stdout",
     "output_type": "stream",
     "text": [
      "\u001B[32m\n",
      "Using Tool: fetch_top_hacker_news_stories\n",
      "\u001B[32m\n",
      "Tool call dict: \n",
      "{'name': 'fetch_top_hacker_news_stories', 'arguments': {'top_n': 5}, 'id': 1}\n",
      "\u001B[32m\n",
      "Tool result: \n",
      "[{\"title\": \"Show HN: Draw A Fish and watch it swim with the others\", \"url\": \"https://drawafish.com\"}, {\"title\": \"Gemini 2.5 Deep Think\", \"url\": \"https://blog.google/products/gemini/gemini-2-5-deep-think/\"}, {\"title\": \"FBI seized $40k from Linda Martin without charging her with a crime\", \"url\": \"https://reason.com/2025/07/28/the-fbi-took-her-40000-without-explaining-why-she-fought-back-and-lost/\"}, {\"title\": \"Fast (2019)\", \"url\": \"https://patrickcollison.com/fast\"}, {\"title\": \"Show HN: Pontoon \\u2013 Open-source customer data syncs\", \"url\": \"https://github.com/pontoon-data/Pontoon\"}]\n"
     ]
    }
   ],
   "execution_count": 12
  },
  {
   "metadata": {},
   "cell_type": "markdown",
   "source": [
    "1.output = tool_agent.run(user_msg=\"Tell me the top 5 Hacker News stories right now\"):\n",
    "\n",
    "->When asked a question that requires a tool, the ToolAgent performs the following steps internally:\n",
    "\n",
    "\n",
    "->Sends the user query and the system prompt (containing the hn_tool definition) to the LLM.\n",
    "\n",
    "\n",
    "->Receives the tool_call from the LLM (e.g., {\"name\": \"fetch_top_hacker_news_stories\", \"arguments\": {\"top_n\": 5}}).\n",
    "\n",
    "->Parses the tool_call.\n",
    "\n",
    "->Executes the fetch_top_hacker_news_stories function with top_n=5.\n",
    "\n",
    "\n",
    "->Receives the result (the list of Hacker News stories).\n",
    "\n",
    "\n",
    "->Appends this result as an \"Observation\" to the chat history.\n",
    "\n",
    "\n",
    "->Makes a second call to the LLM with the updated history.\n",
    "\n",
    "\n",
    "->Receives the final natural language response from the LLM, summarizing the Hacker News stories."
   ],
   "id": "23981e3eebde0463"
  },
  {
   "metadata": {
    "ExecuteTime": {
     "end_time": "2025-08-01T16:04:09.345021Z",
     "start_time": "2025-08-01T16:04:09.341135Z"
    }
   },
   "cell_type": "code",
   "source": "print(output)",
   "id": "911264cd6d71c984",
   "outputs": [
    {
     "name": "stdout",
     "output_type": "stream",
     "text": [
      "The top 5 Hacker News stories right now are:\n",
      "\n",
      "1. **Show HN: Draw A Fish and watch it swim with the others** - https://drawafish.com\n",
      "2. **Gemini 2.5 Deep Think** - https://blog.google/products/gemini/gemini-2-5-deep-think/\n",
      "3. **FBI seized $40k from Linda Martin without charging her with a crime** - https://reason.com/2025/07/28/the-fbi-took-her-40000-without-explaining-why-she-fought-back-and-lost/\n",
      "4. **Fast (2019)** - https://patrickcollison.com/fast\n",
      "5. **Show HN: Pontoon – Open-source customer data syncs** - https://github.com/pontoon-data/Pontoon\n"
     ]
    }
   ],
   "execution_count": 13
  }
 ],
 "metadata": {
  "kernelspec": {
   "display_name": "Python 3",
   "language": "python",
   "name": "python3"
  },
  "language_info": {
   "codemirror_mode": {
    "name": "ipython",
    "version": 2
   },
   "file_extension": ".py",
   "mimetype": "text/x-python",
   "name": "python",
   "nbconvert_exporter": "python",
   "pygments_lexer": "ipython2",
   "version": "2.7.6"
  }
 },
 "nbformat": 4,
 "nbformat_minor": 5
}
